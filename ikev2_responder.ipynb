{
 "cells": [
  {
   "cell_type": "markdown",
   "id": "6a8b04fd",
   "metadata": {},
   "source": [
    "# IKEv2 responder test"
   ]
  },
  {
   "cell_type": "code",
   "execution_count": 15,
   "id": "80d88e35",
   "metadata": {},
   "outputs": [
    {
     "name": "stdout",
     "output_type": "stream",
     "text": [
      "Get:1 http://deb.debian.org/debian bullseye InRelease [116 kB]\n",
      "Get:2 http://security.debian.org/debian-security bullseye-security InRelease [44.1 kB]3m\n",
      "Get:3 http://deb.debian.org/debian bullseye-updates InRelease [39.4 kB]\n",
      "Get:4 http://deb.debian.org/debian bullseye/main amd64 Packages [8182 kB]\u001b[33m\u001b[33m\n",
      "Get:5 http://security.debian.org/debian-security bullseye-security/main amd64 Packages [153 kB]\n",
      "Get:6 http://deb.debian.org/debian bullseye-updates/main amd64 Packages [2592 B]m\u001b[33m\n",
      "Fetched 8537 kB in 2s (5008 kB/s)3m                       \u001b[0m\u001b[33m\u001b[33m\u001b[33m\n",
      "Reading package lists... Done\n",
      "Building dependency tree... Done\n",
      "Reading state information... Done\n",
      "All packages are up to date.\n",
      "Reading package lists... Done\n",
      "Building dependency tree... Done\n",
      "Reading state information... Done\n",
      "libpcap-dev is already the newest version (1.10.0-2).\n",
      "0 upgraded, 0 newly installed, 0 to remove and 0 not upgraded.\n",
      "Requirement already satisfied: scapy[basic] in /usr/local/lib/python3.10/site-packages (2.4.5)\n",
      "Requirement already satisfied: ipython in /usr/local/lib/python3.10/site-packages (from scapy[basic]) (8.4.0)\n",
      "Requirement already satisfied: prompt-toolkit!=3.0.0,!=3.0.1,<3.1.0,>=2.0.0 in /usr/local/lib/python3.10/site-packages (from ipython->scapy[basic]) (3.0.29)\n",
      "Requirement already satisfied: decorator in /usr/local/lib/python3.10/site-packages (from ipython->scapy[basic]) (5.1.1)\n",
      "Requirement already satisfied: pexpect>4.3 in /usr/local/lib/python3.10/site-packages (from ipython->scapy[basic]) (4.8.0)\n",
      "Requirement already satisfied: pygments>=2.4.0 in /usr/local/lib/python3.10/site-packages (from ipython->scapy[basic]) (2.12.0)\n",
      "Requirement already satisfied: pickleshare in /usr/local/lib/python3.10/site-packages (from ipython->scapy[basic]) (0.7.5)\n",
      "Requirement already satisfied: setuptools>=18.5 in /usr/local/lib/python3.10/site-packages (from ipython->scapy[basic]) (58.1.0)\n",
      "Requirement already satisfied: traitlets>=5 in /usr/local/lib/python3.10/site-packages (from ipython->scapy[basic]) (5.2.2.post1)\n",
      "Requirement already satisfied: jedi>=0.16 in /usr/local/lib/python3.10/site-packages (from ipython->scapy[basic]) (0.18.1)\n",
      "Requirement already satisfied: stack-data in /usr/local/lib/python3.10/site-packages (from ipython->scapy[basic]) (0.2.0)\n",
      "Requirement already satisfied: backcall in /usr/local/lib/python3.10/site-packages (from ipython->scapy[basic]) (0.2.0)\n",
      "Requirement already satisfied: matplotlib-inline in /usr/local/lib/python3.10/site-packages (from ipython->scapy[basic]) (0.1.3)\n",
      "Requirement already satisfied: parso<0.9.0,>=0.8.0 in /usr/local/lib/python3.10/site-packages (from jedi>=0.16->ipython->scapy[basic]) (0.8.3)\n",
      "Requirement already satisfied: ptyprocess>=0.5 in /usr/local/lib/python3.10/site-packages (from pexpect>4.3->ipython->scapy[basic]) (0.7.0)\n",
      "Requirement already satisfied: wcwidth in /usr/local/lib/python3.10/site-packages (from prompt-toolkit!=3.0.0,!=3.0.1,<3.1.0,>=2.0.0->ipython->scapy[basic]) (0.2.5)\n",
      "Requirement already satisfied: asttokens in /usr/local/lib/python3.10/site-packages (from stack-data->ipython->scapy[basic]) (2.0.5)\n",
      "Requirement already satisfied: pure-eval in /usr/local/lib/python3.10/site-packages (from stack-data->ipython->scapy[basic]) (0.2.2)\n",
      "Requirement already satisfied: executing in /usr/local/lib/python3.10/site-packages (from stack-data->ipython->scapy[basic]) (0.8.3)\n",
      "Requirement already satisfied: six in /usr/local/lib/python3.10/site-packages (from asttokens->stack-data->ipython->scapy[basic]) (1.16.0)\n",
      "\u001b[33mWARNING: Running pip as the 'root' user can result in broken permissions and conflicting behaviour with the system package manager. It is recommended to use a virtual environment instead: https://pip.pypa.io/warnings/venv\u001b[0m\u001b[33m\n",
      "\u001b[0m\u001b[33mWARNING: You are using pip version 22.0.4; however, version 22.1.2 is available.\n",
      "You should consider upgrading via the '/usr/local/bin/python -m pip install --upgrade pip' command.\u001b[0m\u001b[33m\n",
      "\u001b[0mNote: you may need to restart the kernel to use updated packages.\n",
      "Collecting pycryptodomex\n",
      "  Downloading pycryptodomex-3.14.1-cp35-abi3-manylinux2010_x86_64.whl (2.0 MB)\n",
      "\u001b[2K     \u001b[90m━━━━━━━━━━━━━━━━━━━━━━━━━━━━━━━━━━━━━━━━\u001b[0m \u001b[32m2.0/2.0 MB\u001b[0m \u001b[31m12.2 MB/s\u001b[0m eta \u001b[36m0:00:00\u001b[0ma \u001b[36m0:00:01\u001b[0m\n",
      "\u001b[?25hInstalling collected packages: pycryptodomex\n",
      "Successfully installed pycryptodomex-3.14.1\n",
      "\u001b[33mWARNING: Running pip as the 'root' user can result in broken permissions and conflicting behaviour with the system package manager. It is recommended to use a virtual environment instead: https://pip.pypa.io/warnings/venv\u001b[0m\u001b[33m\n",
      "\u001b[0m\u001b[33mWARNING: You are using pip version 22.0.4; however, version 22.1.2 is available.\n",
      "You should consider upgrading via the '/usr/local/bin/python -m pip install --upgrade pip' command.\u001b[0m\u001b[33m\n",
      "\u001b[0mNote: you may need to restart the kernel to use updated packages.\n"
     ]
    }
   ],
   "source": [
    "!apt update && apt install -y libpcap-dev\n",
    "%pip install --pre scapy[basic]\n",
    "%pip install pycryptodomex"
   ]
  },
  {
   "cell_type": "code",
   "execution_count": 1,
   "id": "0e7745dd",
   "metadata": {},
   "outputs": [
    {
     "name": "stdout",
     "output_type": "stream",
     "text": [
      "IP address of host: 172.17.0.2\n"
     ]
    }
   ],
   "source": [
    "import socket\n",
    "hostip = socket.gethostbyname(socket.gethostname())\n",
    "print(\"IP address of host:\", hostip)"
   ]
  },
  {
   "cell_type": "code",
   "execution_count": 2,
   "id": "17724ccf-42fb-4d57-a597-1ff266fbce5d",
   "metadata": {},
   "outputs": [
    {
     "name": "stderr",
     "output_type": "stream",
     "text": [
      "/usr/local/lib/python3.10/site-packages/scapy/layers/ipsec.py:471: CryptographyDeprecationWarning: Blowfish has been deprecated\n",
      "  cipher=algorithms.Blowfish,\n",
      "/usr/local/lib/python3.10/site-packages/scapy/layers/ipsec.py:485: CryptographyDeprecationWarning: CAST5 has been deprecated\n",
      "  cipher=algorithms.CAST5,\n"
     ]
    }
   ],
   "source": [
    "from scapy.all import *\n",
    "from scapy.contrib.ikev2 import *\n",
    "from scapy.utils import inet_aton\n",
    "import binascii\n",
    "import os\n",
    "import ikev2_lib\n",
    "import socket"
   ]
  },
  {
   "cell_type": "markdown",
   "id": "35fb8377",
   "metadata": {},
   "source": [
    "IKEv2 specification: https://tools.ietf.org/pdf/rfc7296.pdf"
   ]
  },
  {
   "cell_type": "code",
   "execution_count": 3,
   "id": "820319b3",
   "metadata": {},
   "outputs": [],
   "source": [
    "INITIATOR_IP = '172.17.0.3'\n",
    "INITIATOR_PORT = 500\n",
    "RESPONDER_IP = '172.17.0.2'\n",
    "RESPONDER_PORT = 500"
   ]
  },
  {
   "cell_type": "markdown",
   "id": "011b669d",
   "metadata": {},
   "source": [
    "### Create dummy UDP listener to prevent ICMP port unreachable messages"
   ]
  },
  {
   "cell_type": "code",
   "execution_count": 4,
   "id": "92245f36-34db-4152-9403-bfdaf91c7019",
   "metadata": {},
   "outputs": [],
   "source": [
    "sock = socket.socket(socket.AF_INET, socket.SOCK_DGRAM)\n",
    "sock.bind((RESPONDER_IP, RESPONDER_PORT))"
   ]
  },
  {
   "cell_type": "markdown",
   "id": "eec6af62",
   "metadata": {},
   "source": [
    "### Initialise local parameters and secrets"
   ]
  },
  {
   "cell_type": "code",
   "execution_count": 5,
   "id": "942590fd",
   "metadata": {},
   "outputs": [],
   "source": [
    "nonce_r = os.urandom(32)\n",
    "spi_r = b'Ysblokje'\n",
    "\n",
    "dh = ikev2_lib.DiffieHellman()"
   ]
  },
  {
   "cell_type": "code",
   "execution_count": 6,
   "id": "f50bb55f",
   "metadata": {},
   "outputs": [
    {
     "name": "stdout",
     "output_type": "stream",
     "text": [
      "Ether / IP / UDP 172.17.0.3:isakmp > 172.17.0.2:isakmp / IKEv2 / IKEv2_payload_SA / IKEv2_payload_KE / IKEv2_payload_Nonce / IKEv2_payload_Notify / IKEv2_payload_Notify / IKEv2_payload_Notify / IKEv2_payload_Notify / IKEv2_payload_Notify\n"
     ]
    }
   ],
   "source": [
    "capture = sniff(filter=f\"dst host {RESPONDER_IP} and dst port {RESPONDER_PORT}\", count=1)\n",
    "capture.summary()"
   ]
  },
  {
   "cell_type": "code",
   "execution_count": 7,
   "id": "106b632f",
   "metadata": {},
   "outputs": [
    {
     "name": "stdout",
     "output_type": "stream",
     "text": [
      "###[ IP ]### \n",
      "  version   = 4\n",
      "  ihl       = 5\n",
      "  tos       = 0x0\n",
      "  len       = 492\n",
      "  id        = 122\n",
      "  flags     = DF\n",
      "  frag      = 0\n",
      "  ttl       = 64\n",
      "  proto     = udp\n",
      "  chksum    = 0xe05f\n",
      "  src       = 172.17.0.3\n",
      "  dst       = 172.17.0.2\n",
      "  \\options   \\\n",
      "###[ UDP ]### \n",
      "     sport     = isakmp\n",
      "     dport     = isakmp\n",
      "     len       = 472\n",
      "     chksum    = 0x5a11\n",
      "###[ IKEv2 ]### \n",
      "        init_SPI  = '\\x04\\\\x90\\\\x94(\\x14u\\\\x9c\\\\xe3'\n",
      "        resp_SPI  = ''\n",
      "        next_payload= SA\n",
      "        version   = 0x20\n",
      "        exch_type = IKE_SA_INIT\n",
      "        flags     = Initiator\n",
      "        id        = 0\n",
      "        length    = 464\n",
      "###[ IKEv2 SA ]### \n",
      "           next_payload= KE\n",
      "           res       = 0\n",
      "           length    = 48\n",
      "           \\prop      \\\n",
      "            |###[ IKEv2 Proposal ]### \n",
      "            |  next_payload= last\n",
      "            |  res       = 0\n",
      "            |  length    = 44\n",
      "            |  proposal  = 1\n",
      "            |  proto     = IKEv2\n",
      "            |  SPIsize   = 0\n",
      "            |  trans_nb  = 4\n",
      "            |  SPI       = ''\n",
      "            |  \\trans     \\\n",
      "            |   |###[ IKE Transform ]### \n",
      "            |   |  next_payload= Transform\n",
      "            |   |  res       = 0\n",
      "            |   |  length    = 12\n",
      "            |   |  transform_type= Encryption\n",
      "            |   |  res2      = 0\n",
      "            |   |  transform_id= AES-CBC\n",
      "            |   |  key_length= 256\n",
      "            |   |###[ IKE Transform ]### \n",
      "            |   |     next_payload= Transform\n",
      "            |   |     res       = 0\n",
      "            |   |     length    = 8\n",
      "            |   |     transform_type= Integrity\n",
      "            |   |     res2      = 0\n",
      "            |   |     transform_id= HMAC-SHA1-96\n",
      "            |   |###[ IKE Transform ]### \n",
      "            |   |        next_payload= Transform\n",
      "            |   |        res       = 0\n",
      "            |   |        length    = 8\n",
      "            |   |        transform_type= PRF\n",
      "            |   |        res2      = 0\n",
      "            |   |        transform_id= PRF_HMAC_SHA2_256\n",
      "            |   |###[ IKE Transform ]### \n",
      "            |   |           next_payload= last\n",
      "            |   |           res       = 0\n",
      "            |   |           length    = 8\n",
      "            |   |           transform_type= GroupDesc\n",
      "            |   |           res2      = 0\n",
      "            |   |           transform_id= 2048MODPgr\n",
      "###[ IKEv2 Key Exchange ]### \n",
      "              next_payload= Nonce\n",
      "              res       = 0\n",
      "              length    = 264\n",
      "              group     = 2048MODPgr\n",
      "              res2      = 0\n",
      "              load      = '\\'\\\\xdch/\\\\xb7sW(\\x18]\\\\x88\\\\xa2\\\\xe72\\\\xdfK\\\\xfb\\x01rj\\\\xef\\x1f\\\\x81\\\\x8d\\\\xaf\\n\\x14\\\\xb3$\\x14\\\\xce,\\\\xa2\\\\xcdi\\x16\\\\xeb\\x0c\\x0e\\\\x99\"\\\\xd0\\\\xf6Z q|7\\\\xea(\\\\xc1\\\\xbd\\x10 \\\\x94\\\\x8b\\x08F\\\\xbe\"\\\\xe4ڙ\\\\xd5.k\\\\xb7;ٛSG\\\\x81\\\\xbe-˯\\x15\\\\xa7ͽ\\\\xc2}\\x7f\\\\xd9-\\x1dwP\\x04E\\\\xd1\\x15\\\\xad\\\\xf9\\\\xf5\\\\xb2Z\\\\ݹ\\x04v\\\\xd8\\\\xf4\\x0bswLH\\\\xfd\\\\xacM\\\\x99\\x13B2aIq\\\\xd06\\x04\\\\xe3)u\\x0e\\\\xb0\\\\xaf9S\\\\xf1\\x19\\\\xbb\\\\xca\\\\xd2\\\\xe8g\\x04KH\\\\xf6qN\\x0c\\\\x85>\\\\xb6\\\\xff\\\\x8aB\\x08ձm\\\\x8aJ\\n\\\\xed0\\x19=\\\\x87o;\\\\x95\\\\xa0\\\\x85\\\\xfe\\\\xafa\\\\xd7Nϵ5\\\\x8b}\\\\xdaX\\x1aB\\\\xf5\\\\xefn\\x03\\\\x88%\\\\xf6\\\\xa3r\\\\\\x12\\\\x90OO\\x0f\\t\\\\xc5A\\\\xed\\x1e\\\\xfb\\\\xa0\\\\x99ZF\\\\xc4\\\\xd7\\\\xf5\\\\x99\\\\xab\\\\x89\\\\xb5w\\x14\\\\xb8\\\\xe8\\x0b/\\\\xf5\\x01f\\\\xe7u\\\\xf6\\\\xff/\\x13\\\\x93\\\\x94\\\\xa9l\\\\x8e:%\\x1enL\\r\\\\xfa\\\\xf5\\\\xb7j^\\\\x84\\\\x99\\\\xf5\\\\xca\\\\xc6\\\\xe1\\\\xd5\\\\xf4\\\\xf6\\\\x92\\\\xac'\n",
      "###[ IKEv2 Nonce ]### \n",
      "                 next_payload= Notify\n",
      "                 res       = 0\n",
      "                 length    = 36\n",
      "                 load      = '\\\\xa0\\\\xc2;\\\\xea\\\\xa46\\\\xa6\\\\xf6\\\\xf0\\\\x9d\\\\xa8\\\\xd3\\\\xfe\\\\xf9\\\\x9d\\\\xb7\\\\xe9\\\\xe3\\\\xf4O?\\\\xfe\\\\x83\\\\x90W1\\\\xea\\\\xf9\\\\xe8\\\\x82\\\\xdf\\\\'\n",
      "###[ IKEv2 Notify ]### \n",
      "                    next_payload= Notify\n",
      "                    res       = 0\n",
      "                    length    = 28\n",
      "                    proto     = Reserved\n",
      "                    SPIsize   = 0\n",
      "                    type      = NAT_DETECTION_SOURCE_IP\n",
      "                    SPI       = ''\n",
      "                    load      = '>ĺ\\\\x8b\\\\xf5\\\\xab\\\\xe1\\\\xf1Y\\\\xaa2b\\x03\\\\xe11\\\\xd9\\\\xe6\\\\xcd\\x1eG'\n",
      "###[ IKEv2 Notify ]### \n",
      "                       next_payload= Notify\n",
      "                       res       = 0\n",
      "                       length    = 28\n",
      "                       proto     = Reserved\n",
      "                       SPIsize   = 0\n",
      "                       type      = NAT_DETECTION_DESTINATION_IP\n",
      "                       SPI       = ''\n",
      "                       load      = '\\\\xc5j(۪\\\\\\\\xd6\\x16\\\\x9fe\\\\xd52\\\\x9f\\\\xfa2\\\\xd8>\\\\x91{\\\\xf4'\n",
      "###[ IKEv2 Notify ]### \n",
      "                          next_payload= Notify\n",
      "                          res       = 0\n",
      "                          length    = 8\n",
      "                          proto     = Reserved\n",
      "                          SPIsize   = 0\n",
      "                          type      = IKEV2_FRAGMENTATION_SUPPORTED\n",
      "                          SPI       = ''\n",
      "                          load      = ''\n",
      "###[ IKEv2 Notify ]### \n",
      "                             next_payload= Notify\n",
      "                             res       = 0\n",
      "                             length    = 16\n",
      "                             proto     = Reserved\n",
      "                             SPIsize   = 0\n",
      "                             type      = SIGNATURE_HASH_ALGORITHMS\n",
      "                             SPI       = ''\n",
      "                             load      = '\\x00\\x02\\x00\\x03\\x00\\x04\\x00\\x05'\n",
      "###[ IKEv2 Notify ]### \n",
      "                                next_payload= None\n",
      "                                res       = 0\n",
      "                                length    = 8\n",
      "                                proto     = Reserved\n",
      "                                SPIsize   = 0\n",
      "                                type      = REDIRECT_SUPPORTED\n",
      "                                SPI       = ''\n",
      "                                load      = ''\n",
      "\n"
     ]
    }
   ],
   "source": [
    "packet = capture[0][IP]\n",
    "packet.show()"
   ]
  },
  {
   "cell_type": "code",
   "execution_count": 8,
   "id": "248b74dd",
   "metadata": {},
   "outputs": [
    {
     "name": "stdout",
     "output_type": "stream",
     "text": [
      "shared Diffie Hellman secret: b83d180123b5fa2c6a7c19644c61ea853753266f7f49ee48710d481ee952eda6923ea8e9bd10527a89d8bbabb92e347c2c489ca395d6f825bd96ea95313dc72e73472c234319c5c973c9d62d491b87aa66f9c26051ec02d81b88a00dcfc50c544aa16dd136fef93a6bc0c1c571a3852b7b8ddc69985de04bc9316db2c87ddfc6b06e3aade594f4317fd3feb26ed8dd51f6bcad836257158e5345e4323da3cdc88409a8378ed3e9aa34d68377b40b7510710c8c4622127e156572baa0785d353d641a767b1a735cc2e942b1ad91052683f63208c240a02945e50c49fc13efc7e36e6fa025b9d833d7765dd63d68c8d7f05797cd6c9bd9946ffcc5794da2e27c99\n"
     ]
    }
   ],
   "source": [
    "dh_a = dh.generate_public().to_bytes(length=256, byteorder='big') \n",
    "dh_b = int.from_bytes(packet[IKEv2_payload_KE].load, byteorder='big')\n",
    "\n",
    "dhs = dh.generate_shared(dh_b).to_bytes(length=256, byteorder='big')\n",
    "print(f\"shared Diffie Hellman secret: {binascii.b2a_hex(dhs).decode()}\")"
   ]
  },
  {
   "cell_type": "code",
   "execution_count": 9,
   "id": "aa6ffab3",
   "metadata": {},
   "outputs": [
    {
     "name": "stdout",
     "output_type": "stream",
     "text": [
      "SPIi: b'\\x04\\x90\\x94(\\x14u\\x9c\\xe3'\n",
      "SPIr: b'Ysblokje'\n",
      "Ni: a0c23beaa436a6f6f09da8d3fef99db7e9e3f44f3ffe83905731eaf9e882df5c\n",
      "Nr: f2d748145dbcad2ca3f58c72fe8adbc6d7738c6b40aa4f3d9ccd0da62357d3ca\n"
     ]
    }
   ],
   "source": [
    "nonce_i = packet[IKEv2_payload_Nonce].load\n",
    "spi_i = packet[IKEv2].init_SPI\n",
    "\n",
    "print(f\"SPIi: {spi_i}\")\n",
    "print(f\"SPIr: {spi_r}\")\n",
    "\n",
    "print(f\"Ni: {binascii.b2a_hex(nonce_i).decode()}\")\n",
    "print(f\"Nr: {binascii.b2a_hex(nonce_r).decode()}\")"
   ]
  },
  {
   "cell_type": "markdown",
   "id": "d5a7515d",
   "metadata": {},
   "source": [
    "### Calculate SKEYSEED and derive keys ([RFC7296 2.14](https://datatracker.ietf.org/doc/html/rfc7296#section-2.14))"
   ]
  },
  {
   "cell_type": "code",
   "execution_count": 10,
   "id": "12b1b9f4",
   "metadata": {},
   "outputs": [
    {
     "name": "stdout",
     "output_type": "stream",
     "text": [
      "SKEYSEED: 898bb94b7370a6716991e5a01cefb36605ef3620a692d5c5621d1c7b6cf45fc6\n"
     ]
    }
   ],
   "source": [
    "skeyseed = ikev2_lib.PrfHmacSha256(nonce_i + nonce_r, dhs)\n",
    "\n",
    "print(f\"SKEYSEED: {binascii.b2a_hex(skeyseed).decode()}\")"
   ]
  },
  {
   "cell_type": "markdown",
   "id": "4ed18366",
   "metadata": {},
   "source": [
    "Keys needed: SK_d | SK_ai | SK_ar | SK_ei | SK_er | SK_pi | SK_pr\n",
    "* Sk_d is 32 bytes (256 bits) based on PRF_HMAC_SHA2_256\n",
    "* Sk_ai is 20 bytes (160 bits) based on AUTH_HMAC_SHA1_96\n",
    "* Sk_ar is 20 bytes (160 bits) based on AUTH_HMAC_SHA1_96\n",
    "* Sk_ei is 32 bytes (256 bits) based on ENCR_AES_CBC\n",
    "* Sk_er is 32 bytes (256 bits) based on ENCR_AES_CBC\n",
    "* Sk_pi is 32 bytes (256 bits) based on PRF_HMAC_SHA2_256\n",
    "* Sk_pr is 32 bytes (256 bits) based on PRF_HMAC_SHA2_256\n",
    "\n",
    "Total is **200 bytes**"
   ]
  },
  {
   "cell_type": "code",
   "execution_count": 11,
   "id": "27baff19",
   "metadata": {},
   "outputs": [
    {
     "name": "stdout",
     "output_type": "stream",
     "text": [
      "Sk_d: 7b72f4f44f741541ffb52135d134560474cc9c8bc8e3555ede57ed9ce2b91cf0\n",
      "Sk_ai: cd47ce2b53cbd8183d43cae78aeb54828c32d85f\n",
      "Sk_ar: 2278a0153db3c34f70dd7d8857db15b6269699a0\n",
      "Sk_ei: fcd5c2e892c47d7184c010d421a7606d136ac8d3e108c6ea51aaca8a43a1c313\n",
      "Sk_er: e6b50a6d4410f2d2814b3b39815fa9a0918daeee9cdccf71a5666c6531e3498a\n",
      "Sk_pi: dc2731d60465079ada86dd27c69da50436d92ce0186caae5cbe71ab1408f7164\n",
      "Sk_pr: 8caa8599bcc12c3453f49ec32366c8d005c3e84df770f8c6eb73f61b11a36f3e\n"
     ]
    }
   ],
   "source": [
    "prfplusoutput = ikev2_lib.PrfPlus(ikev2_lib.PrfHmacSha256, skeyseed, nonce_i + nonce_r + spi_i + spi_r, 200)\n",
    "#print(f\"prf+ output: {binascii.b2a_hex(prfplusoutput).decode()}\")\n",
    "sk_d = prfplusoutput[:32]\n",
    "sk_ai = prfplusoutput[32:52]\n",
    "sk_ar = prfplusoutput[52:72]\n",
    "sk_ei = prfplusoutput[72:104]\n",
    "sk_er = prfplusoutput[104:136]\n",
    "sk_pi = prfplusoutput[136:168]\n",
    "sk_pr = prfplusoutput[168:200]\n",
    "print(f\"Sk_d: {binascii.b2a_hex(sk_d).decode()}\")\n",
    "print(f\"Sk_ai: {binascii.b2a_hex(sk_ai).decode()}\")\n",
    "print(f\"Sk_ar: {binascii.b2a_hex(sk_ar).decode()}\")\n",
    "print(f\"Sk_ei: {binascii.b2a_hex(sk_ei).decode()}\")\n",
    "print(f\"Sk_er: {binascii.b2a_hex(sk_er).decode()}\")\n",
    "print(f\"Sk_pi: {binascii.b2a_hex(sk_pi).decode()}\")\n",
    "print(f\"Sk_pr: {binascii.b2a_hex(sk_pr).decode()}\")"
   ]
  },
  {
   "cell_type": "markdown",
   "id": "e785f6e8",
   "metadata": {},
   "source": [
    "### Build IKE_SA_INIT response"
   ]
  },
  {
   "cell_type": "code",
   "execution_count": 12,
   "id": "6bb6c2af",
   "metadata": {},
   "outputs": [],
   "source": [
    "# Get proposal from Initiator IKE_SA_INIT \n",
    "proposal = packet[IKEv2_payload_Proposal]\n",
    "\n",
    "hdr = IKEv2(init_SPI = spi_i, resp_SPI=spi_r, next_payload = 'SA', exch_type = 'IKE_SA_INIT', flags='Response')\n",
    "sa = IKEv2_payload_SA(next_payload = 'KE', prop=proposal)\n",
    "ke = IKEv2_payload_KE(next_payload = 'Nonce', group = '2048MODPgr', load = dh_a)\n",
    "nonce = IKEv2_payload_Nonce(next_payload = 'None', load = nonce_r)\n",
    "\n",
    "ike_sa_init = hdr/sa/ke/nonce\n",
    "\n",
    "packet = IP(dst = INITIATOR_IP)/UDP(dport = INITIATOR_PORT, sport = RESPONDER_PORT)/ike_sa_init\n",
    "\n",
    "#packet.show()\n"
   ]
  },
  {
   "cell_type": "markdown",
   "id": "b50e7da2",
   "metadata": {},
   "source": [
    "### Send IKE_SA_INIT response and receive IKE_AUTH"
   ]
  },
  {
   "cell_type": "code",
   "execution_count": 13,
   "id": "4daa4b0a",
   "metadata": {},
   "outputs": [
    {
     "name": "stdout",
     "output_type": "stream",
     "text": [
      "Begin emission:\n",
      "Finished sending 1 packets.\n",
      "..*\n",
      "Received 3 packets, got 1 answers, remaining 0 packets\n",
      "###[ IP ]### \n",
      "  version   = 4\n",
      "  ihl       = 5\n",
      "  tos       = 0x0\n",
      "  len       = 392\n",
      "  id        = 8640\n",
      "  flags     = DF\n",
      "  frag      = 0\n",
      "  ttl       = 64\n",
      "  proto     = udp\n",
      "  chksum    = 0xbf7d\n",
      "  src       = 172.17.0.3\n",
      "  dst       = 172.17.0.2\n",
      "  \\options   \\\n",
      "###[ UDP ]### \n",
      "     sport     = isakmp\n",
      "     dport     = isakmp\n",
      "     len       = 372\n",
      "     chksum    = 0x59ad\n",
      "###[ IKEv2 ]### \n",
      "        init_SPI  = '\\x04\\\\x90\\\\x94(\\x14u\\\\x9c\\\\xe3'\n",
      "        resp_SPI  = 'Ysblokje'\n",
      "        next_payload= Encrypted\n",
      "        version   = 0x20\n",
      "        exch_type = IKE_AUTH\n",
      "        flags     = Initiator\n",
      "        id        = 1\n",
      "        length    = 364\n",
      "###[ IKEv2 Encrypted and Authenticated ]### \n",
      "           next_payload= IDi\n",
      "           res       = 0\n",
      "           length    = 336\n",
      "           load      = '\\\\xa3\\\\xd3#\\\\xab7pL\\\\xf0\\\\xda\\x1a\\x15\\x10[/\\\\xda\\\\xe5\\x0bI<C\\\\x8b\\\\xbb\\\\xf7\\\\x8a\\\\x8d\\\\xec:\\x07\\\\xd3쇧\\x11\\\\xb8\\\\xdb.\\\\xa8.Ԯ{\\\\xc0ӣ\\\\xb1\\\\xbc\\\\xe0\\\\xc9LÃ\\\\xafT\\\\xb2\\\\xb6\\\\x82g9\\\\xfaJ\\\\xcc\\\\xe2\\\\x8aJ>\\\\x89\\\\X\\x14͏8\\\\x96\\\\xe0\\\\xf4-d5\\\\xf4#.m\\x08,\\\\xfb|{\\\\xac\\\\xd8\\x7fz\\\\xa8\\x06\\\\xa6\\\\xb2\\x06\\\\xa4\\\\xd4\\x00\\\\xfe\\\\\\\\xd89\\x1f\\\\x87DV+ \\\\xf4\\\\xcf\\\\xdaT>\\\\xe1\\\\x9b\\\\xda&\\\\xa8J\\x01\\n3j\\\\xa8\\\\x93\\\\xdc\\\\xdd\\\\xc0ܡ\\\\xa5Ϙሼ\\\\xdb5\\\\xd0U\\\\xe5\\x1d/F\\x086\\\\xe5\\\\xe1L\\\\x9d\\\\xf4g\\t\\\\xc8=fp\\x0f\\x01ڮƾ\\\\xd5\\\\\\x05-\\r+m\\\\xd6j\"\\\\xc3\\\\xee\\\\xfb\\\\x98q\\\\xf0\\x100\\\\xd9IF\\\\xaaa\\\\xbd\\\\x98z\\\\xc0\\\\xa1\\\\x89\\x11ҿl\\x7f\\\\xadں\\\\x8a9\\\\x89`qp\\x11\\\\xb7\\\\xd9\\\\xe8I\\\\xb1}\\x06kt.g\\\\x8d\\\\xdd9y\\\\x8c\\\\xcfN\\\\xfb<C4\\\\x83\\\\xf3\\\\xe8%\\t\\\\xadҩ(\\\\xc9p\\x15\\x17i\\n\\\\xa1\\\\xb5PIFbT\\\\xa9!W\\\\xa4\\x13Vi\\\\xde\\x12\\x07\\\\xe19\\\\xf3\\\\x84\\x01\\x10\\\\xaeT\\\\xda>\\\\xac\\\\xfaB\\\\xd7h#\\\\xa1\\\\xbbNYԤ\\\\xa6c\\x0e\\\\x8f\\\\x9b\\\\xb6\\x7f\\\\x87\\\\xbb\\\\xe4\\uf2fd\\x02L\\\\xf7>\\\\xe6`Ϯ\\\\x9b\\\\xe8B\\x17\\x1c\\\\xc4\\\\xc3\\\\xc1\\\\xab\\\\xec\\x1e\\\\xe2\\x18\\\\xe3\\tt\\\\xec\\\\xb4\\\\xc2\\x0b=\\\\xda.hq\\\\x9f\\\\xc4'\n",
      "\n"
     ]
    }
   ],
   "source": [
    "ans = sr1(packet)\n",
    "ans.show()"
   ]
  },
  {
   "cell_type": "markdown",
   "id": "90b7ca4d",
   "metadata": {},
   "source": [
    "### Verify checksum and decrypt payload ([RFC7296 3.14](https://datatracker.ietf.org/doc/html/rfc7296#section-3.14))"
   ]
  },
  {
   "cell_type": "code",
   "execution_count": 30,
   "id": "650e06cd",
   "metadata": {},
   "outputs": [
    {
     "name": "stdout",
     "output_type": "stream",
     "text": [
      "IV: a3d323ab37704cf0da1a15105b2fdae5\n",
      "Checksum in packet: \t74ecb4c20b3dda2e68719fc4\n",
      "Calculated Checksum: \t74ecb4c20b3dda2e68719fc4\n",
      "\n",
      "###[ IKEv2 Identification - Initiator ]### \n",
      "  next_payload= Notify\n",
      "  res       = 0\n",
      "  length    = 12\n",
      "  IDtype    = IPv4_addr\n",
      "  ProtoID   = Unused\n",
      "  Port      = Unused\n",
      "  load      = '\\\\xac\\x11\\x00\\x03'\n",
      "###[ IKEv2 Notify ]### \n",
      "     next_payload= IDr\n",
      "     res       = 0\n",
      "     length    = 8\n",
      "     proto     = Reserved\n",
      "     SPIsize   = 0\n",
      "     type      = INITIAL_CONTACT\n",
      "     SPI       = ''\n",
      "     load      = ''\n",
      "###[ IKEv2 Identification - Responder ]### \n",
      "        next_payload= AUTH\n",
      "        res       = 0\n",
      "        length    = 12\n",
      "        IDtype    = IPv4_addr\n",
      "        ProtoID   = Unused\n",
      "        Port      = Unused\n",
      "        load      = '\\\\xac\\x11\\x00\\x02'\n",
      "###[ IKEv2 Authentication ]### \n",
      "           next_payload= SA\n",
      "           res       = 0\n",
      "           length    = 40\n",
      "           auth_type = Shared Key Message Integrity Code\n",
      "           res2      = 0x0\n",
      "           load      = 'ȕ\\\\xcb\\x1d\\\\xf4\\x10\\\\xf1\\\\xec(\\\\xd3=\\nA\\\\xacF\\\\xba\\\\xa7\\\\xe9\\x02\\u0a55\\\\x83Z\\\\xac\\\\xb7\\\\x8fm\\\\xcd\\\\xdc\\x15\\\\x96'\n",
      "###[ IKEv2 SA ]### \n",
      "              next_payload= TSi\n",
      "              res       = 0\n",
      "              length    = 148\n",
      "              \\prop      \\\n",
      "               |###[ IKEv2 Proposal ]### \n",
      "               |  next_payload= Proposal\n",
      "               |  res       = 0\n",
      "               |  length    = 96\n",
      "               |  proposal  = 1\n",
      "               |  proto     = ESP\n",
      "               |  SPIsize   = 4\n",
      "               |  trans_nb  = 9\n",
      "               |  SPI       = '\\\\xc26\\\\x8fs'\n",
      "               |  \\trans     \\\n",
      "               |   |###[ IKE Transform ]### \n",
      "               |   |  next_payload= Transform\n",
      "               |   |  res       = 0\n",
      "               |   |  length    = 12\n",
      "               |   |  transform_type= Encryption\n",
      "               |   |  res2      = 0\n",
      "               |   |  transform_id= AES-CBC\n",
      "               |   |  key_length= 128\n",
      "               |   |###[ IKE Transform ]### \n",
      "               |   |     next_payload= Transform\n",
      "               |   |     res       = 0\n",
      "               |   |     length    = 12\n",
      "               |   |     transform_type= Encryption\n",
      "               |   |     res2      = 0\n",
      "               |   |     transform_id= AES-CBC\n",
      "               |   |     key_length= 192\n",
      "               |   |###[ IKE Transform ]### \n",
      "               |   |        next_payload= Transform\n",
      "               |   |        res       = 0\n",
      "               |   |        length    = 12\n",
      "               |   |        transform_type= Encryption\n",
      "               |   |        res2      = 0\n",
      "               |   |        transform_id= AES-CBC\n",
      "               |   |        key_length= 256\n",
      "               |   |###[ IKE Transform ]### \n",
      "               |   |           next_payload= Transform\n",
      "               |   |           res       = 0\n",
      "               |   |           length    = 8\n",
      "               |   |           transform_type= Integrity\n",
      "               |   |           res2      = 0\n",
      "               |   |           transform_id= SHA2-256-128\n",
      "               |   |###[ IKE Transform ]### \n",
      "               |   |              next_payload= Transform\n",
      "               |   |              res       = 0\n",
      "               |   |              length    = 8\n",
      "               |   |              transform_type= Integrity\n",
      "               |   |              res2      = 0\n",
      "               |   |              transform_id= SHA2-384-192\n",
      "               |   |###[ IKE Transform ]### \n",
      "               |   |                 next_payload= Transform\n",
      "               |   |                 res       = 0\n",
      "               |   |                 length    = 8\n",
      "               |   |                 transform_type= Integrity\n",
      "               |   |                 res2      = 0\n",
      "               |   |                 transform_id= SHA2-512-256\n",
      "               |   |###[ IKE Transform ]### \n",
      "               |   |                    next_payload= Transform\n",
      "               |   |                    res       = 0\n",
      "               |   |                    length    = 8\n",
      "               |   |                    transform_type= Integrity\n",
      "               |   |                    res2      = 0\n",
      "               |   |                    transform_id= HMAC-SHA1-96\n",
      "               |   |###[ IKE Transform ]### \n",
      "               |   |                       next_payload= Transform\n",
      "               |   |                       res       = 0\n",
      "               |   |                       length    = 8\n",
      "               |   |                       transform_type= Integrity\n",
      "               |   |                       res2      = 0\n",
      "               |   |                       transform_id= AES-XCBC-96\n",
      "               |   |###[ IKE Transform ]### \n",
      "               |   |                          next_payload= last\n",
      "               |   |                          res       = 0\n",
      "               |   |                          length    = 8\n",
      "               |   |                          transform_type= Extended Sequence Number\n",
      "               |   |                          res2      = 0\n",
      "               |   |                          transform_id= No ESN\n",
      "               |###[ IKEv2 Proposal ]### \n",
      "               |     next_payload= last\n",
      "               |     res       = 0\n",
      "               |     length    = 48\n",
      "               |     proposal  = 2\n",
      "               |     proto     = ESP\n",
      "               |     SPIsize   = 4\n",
      "               |     trans_nb  = 3\n",
      "               |     SPI       = '\\\\xc26\\\\x8fs'\n",
      "               |     \\trans     \\\n",
      "               |      |###[ IKE Transform ]### \n",
      "               |      |  next_payload= Transform\n",
      "               |      |  res       = 0\n",
      "               |      |  length    = 12\n",
      "               |      |  transform_type= Encryption\n",
      "               |      |  res2      = 0\n",
      "               |      |  transform_id= AES-GCM-16ICV\n",
      "               |      |  key_length= 128\n",
      "               |      |###[ IKE Transform ]### \n",
      "               |      |     next_payload= Transform\n",
      "               |      |     res       = 0\n",
      "               |      |     length    = 12\n",
      "               |      |     transform_type= Encryption\n",
      "               |      |     res2      = 0\n",
      "               |      |     transform_id= AES-GCM-16ICV\n",
      "               |      |     key_length= 192\n",
      "               |      |###[ IKE Transform ]### \n",
      "               |      |        next_payload= last\n",
      "               |      |        res       = 0\n",
      "               |      |        length    = 12\n",
      "               |      |        transform_type= Encryption\n",
      "               |      |        res2      = 0\n",
      "               |      |        transform_id= AES-GCM-16ICV\n",
      "               |      |        key_length= 256\n",
      "###[ IKEv2 Traffic Selector - Initiator ]### \n",
      "                 next_payload= TSr\n",
      "                 res       = 0\n",
      "                 length    = 24\n",
      "                 number_of_TSs= 1\n",
      "                 res2      = 0x0\n",
      "                 \\traffic_selector\\\n",
      "                  |###[ IKEv2 IPv4 Traffic Selector ]### \n",
      "                  |  TS_type   = TS_IPV4_ADDR_RANGE\n",
      "                  |  IP_protocol_ID= All protocols\n",
      "                  |  length    = 16\n",
      "                  |  start_port= 0\n",
      "                  |  end_port  = 65535\n",
      "                  |  starting_address_v4= 172.17.0.3\n",
      "                  |  ending_address_v4= 172.17.0.3\n",
      "###[ IKEv2 Traffic Selector - Responder ]### \n",
      "                    next_payload= Notify\n",
      "                    res       = 0\n",
      "                    length    = 24\n",
      "                    number_of_TSs= 1\n",
      "                    res2      = 0x0\n",
      "                    \\traffic_selector\\\n",
      "                     |###[ IKEv2 IPv4 Traffic Selector ]### \n",
      "                     |  TS_type   = TS_IPV4_ADDR_RANGE\n",
      "                     |  IP_protocol_ID= All protocols\n",
      "                     |  length    = 16\n",
      "                     |  start_port= 0\n",
      "                     |  end_port  = 65535\n",
      "                     |  starting_address_v4= 10.1.0.0\n",
      "                     |  ending_address_v4= 10.1.255.255\n",
      "###[ IKEv2 Notify ]### \n",
      "                       next_payload= Notify\n",
      "                       res       = 0\n",
      "                       length    = 8\n",
      "                       proto     = Reserved\n",
      "                       SPIsize   = 0\n",
      "                       type      = MOBIKE_SUPPORTED\n",
      "                       SPI       = ''\n",
      "                       load      = ''\n",
      "###[ IKEv2 Notify ]### \n",
      "                          next_payload= Notify\n",
      "                          res       = 0\n",
      "                          length    = 8\n",
      "                          proto     = Reserved\n",
      "                          SPIsize   = 0\n",
      "                          type      = NO_ADDITIONAL_ADDRESSES\n",
      "                          SPI       = ''\n",
      "                          load      = ''\n",
      "###[ IKEv2 Notify ]### \n",
      "                             next_payload= Notify\n",
      "                             res       = 0\n",
      "                             length    = 8\n",
      "                             proto     = Reserved\n",
      "                             SPIsize   = 0\n",
      "                             type      = EAP_ONLY_AUTHENTICATION\n",
      "                             SPI       = ''\n",
      "                             load      = ''\n",
      "###[ IKEv2 Notify ]### \n",
      "                                next_payload= None\n",
      "                                res       = 0\n",
      "                                length    = 8\n",
      "                                proto     = Reserved\n",
      "                                SPIsize   = 0\n",
      "                                type      = IKEV2_MESSAGE_ID_SYNC_SUPPORTED\n",
      "                                SPI       = ''\n",
      "                                load      = ''\n",
      "\n"
     ]
    }
   ],
   "source": [
    "from Cryptodome.Cipher import AES\n",
    "import hmac, hashlib\n",
    "cipher_block_size = 16   # AES_CBC\n",
    "integrity_hash_size = 12 # HMAC_SHA1_96\n",
    "\n",
    "auth_data = raw(ans[IKEv2])[:-integrity_hash_size]\n",
    "iv = ans[IKEv2_payload_Encrypted].load[:cipher_block_size]\n",
    "encrypted = ans[IKEv2_payload_Encrypted].load[cipher_block_size:-integrity_hash_size]\n",
    "checksum = ans[IKEv2_payload_Encrypted].load[-integrity_hash_size:]\n",
    "\n",
    "checksum_calculated = hmac.new(sk_ai, auth_data, hashlib.sha1).digest()[:integrity_hash_size]\n",
    "\n",
    "print(f\"IV: {binascii.b2a_hex(iv).decode()}\")\n",
    "print(f\"Checksum in packet: \\t{binascii.b2a_hex(checksum).decode()}\")\n",
    "print(f\"Calculated Checksum: \\t{binascii.b2a_hex(checksum_calculated).decode()}\\n\")\n",
    "\n",
    "plain_padded = AES.new(sk_ei, AES.MODE_CBC, iv).decrypt(encrypted)\n",
    "pad_length = plain_padded[-1]\n",
    "plain = plain_padded[:-pad_length-1]\n",
    "payload = IKEv2_payload_IDi(plain) # Cast decrypted payload to IKEv2 payload(s), for now assumes IDi payload\n",
    "payload.show()"
   ]
  },
  {
   "cell_type": "code",
   "execution_count": null,
   "id": "1338910f",
   "metadata": {},
   "outputs": [],
   "source": []
  }
 ],
 "metadata": {
  "kernelspec": {
   "display_name": "Python 3 (ipykernel)",
   "language": "python",
   "name": "python3"
  },
  "language_info": {
   "codemirror_mode": {
    "name": "ipython",
    "version": 3
   },
   "file_extension": ".py",
   "mimetype": "text/x-python",
   "name": "python",
   "nbconvert_exporter": "python",
   "pygments_lexer": "ipython3",
   "version": "3.10.5"
  }
 },
 "nbformat": 4,
 "nbformat_minor": 5
}
