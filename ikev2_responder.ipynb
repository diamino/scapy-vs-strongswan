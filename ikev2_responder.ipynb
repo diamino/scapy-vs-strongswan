{
 "cells": [
  {
   "cell_type": "markdown",
   "id": "6a8b04fd",
   "metadata": {},
   "source": [
    "# IKEv2 responder test"
   ]
  },
  {
   "cell_type": "code",
   "execution_count": null,
   "id": "80d88e35",
   "metadata": {},
   "outputs": [],
   "source": [
    "!apt update && apt install -y libpcap-dev\n",
    "%pip install --pre scapy[basic]\n",
    "%pip install pycryptodomex"
   ]
  },
  {
   "cell_type": "code",
   "execution_count": null,
   "id": "0e7745dd",
   "metadata": {},
   "outputs": [],
   "source": [
    "import socket\n",
    "hostip = socket.gethostbyname(socket.gethostname())\n",
    "print(\"IP address of host:\", hostip)"
   ]
  },
  {
   "cell_type": "code",
   "execution_count": null,
   "id": "17724ccf-42fb-4d57-a597-1ff266fbce5d",
   "metadata": {},
   "outputs": [],
   "source": [
    "%load_ext autoreload\n",
    "%autoreload\n",
    "\n",
    "from scapy.all import *\n",
    "from scapy.contrib.ikev2 import *\n",
    "from scapy.utils import inet_aton\n",
    "import binascii\n",
    "import os\n",
    "import ikev2_lib\n",
    "import socket"
   ]
  },
  {
   "cell_type": "markdown",
   "id": "35fb8377",
   "metadata": {},
   "source": [
    "IKEv2 specification: https://tools.ietf.org/pdf/rfc7296.pdf"
   ]
  },
  {
   "cell_type": "code",
   "execution_count": null,
   "id": "820319b3",
   "metadata": {},
   "outputs": [],
   "source": [
    "INITIATOR_IP = '172.17.0.3'\n",
    "INITIATOR_PORT = 500\n",
    "RESPONDER_IP = '172.17.0.2'\n",
    "RESPONDER_PORT = 500"
   ]
  },
  {
   "cell_type": "markdown",
   "id": "011b669d",
   "metadata": {},
   "source": [
    "### Create dummy UDP listener to prevent ICMP port unreachable messages"
   ]
  },
  {
   "cell_type": "code",
   "execution_count": null,
   "id": "92245f36-34db-4152-9403-bfdaf91c7019",
   "metadata": {},
   "outputs": [],
   "source": [
    "sock = socket.socket(socket.AF_INET, socket.SOCK_DGRAM)\n",
    "sock.bind((RESPONDER_IP, RESPONDER_PORT))"
   ]
  },
  {
   "cell_type": "markdown",
   "id": "eec6af62",
   "metadata": {},
   "source": [
    "### Initialise local parameters and secrets"
   ]
  },
  {
   "cell_type": "code",
   "execution_count": null,
   "id": "942590fd",
   "metadata": {},
   "outputs": [],
   "source": [
    "nonce_r = os.urandom(32)\n",
    "spi_r = b'Ysblokje'\n",
    "\n",
    "dh = ikev2_lib.DiffieHellman()"
   ]
  },
  {
   "cell_type": "code",
   "execution_count": null,
   "id": "f50bb55f",
   "metadata": {},
   "outputs": [],
   "source": [
    "capture = sniff(filter=f\"dst host {RESPONDER_IP} and dst port {RESPONDER_PORT}\", count=1)\n",
    "capture.summary()"
   ]
  },
  {
   "cell_type": "code",
   "execution_count": null,
   "id": "106b632f",
   "metadata": {},
   "outputs": [],
   "source": [
    "packet = capture[0][IP]\n",
    "packet.show()"
   ]
  },
  {
   "cell_type": "code",
   "execution_count": null,
   "id": "248b74dd",
   "metadata": {},
   "outputs": [],
   "source": [
    "dh_a = dh.generate_public().to_bytes(length=256, byteorder='big') \n",
    "dh_b = int.from_bytes(packet[IKEv2_payload_KE].load, byteorder='big')\n",
    "\n",
    "dhs = dh.generate_shared(dh_b).to_bytes(length=256, byteorder='big')\n",
    "print(f\"shared Diffie Hellman secret: {binascii.b2a_hex(dhs).decode()}\")"
   ]
  },
  {
   "cell_type": "code",
   "execution_count": null,
   "id": "aa6ffab3",
   "metadata": {},
   "outputs": [],
   "source": [
    "nonce_i = packet[IKEv2_payload_Nonce].load\n",
    "spi_i = packet[IKEv2].init_SPI\n",
    "\n",
    "print(f\"SPIi: {spi_i}\")\n",
    "print(f\"SPIr: {spi_r}\")\n",
    "\n",
    "print(f\"Ni: {binascii.b2a_hex(nonce_i).decode()}\")\n",
    "print(f\"Nr: {binascii.b2a_hex(nonce_r).decode()}\")"
   ]
  },
  {
   "cell_type": "markdown",
   "id": "7f77a20c",
   "metadata": {},
   "source": [
    "### Calculate SKEYSEED and derive keys ([RFC7296 2.14](https://datatracker.ietf.org/doc/html/rfc7296#section-2.14))"
   ]
  },
  {
   "cell_type": "code",
   "execution_count": null,
   "id": "12b1b9f4",
   "metadata": {},
   "outputs": [],
   "source": [
    "skeyseed = ikev2_lib.PrfHmacSha256(nonce_i + nonce_r, dhs)\n",
    "\n",
    "print(f\"SKEYSEED: {binascii.b2a_hex(skeyseed).decode()}\")"
   ]
  },
  {
   "cell_type": "markdown",
   "id": "4ed18366",
   "metadata": {},
   "source": [
    "Keys needed: SK_d | SK_ai | SK_ar | SK_ei | SK_er | SK_pi | SK_pr\n",
    "* Sk_d is 32 bytes (256 bits) based on PRF_HMAC_SHA2_256\n",
    "* Sk_ai is 20 bytes (160 bits) based on AUTH_HMAC_SHA1_96\n",
    "* Sk_ar is 20 bytes (160 bits) based on AUTH_HMAC_SHA1_96\n",
    "* Sk_ei is 32 bytes (256 bits) based on ENCR_AES_CBC\n",
    "* Sk_er is 32 bytes (256 bits) based on ENCR_AES_CBC\n",
    "* Sk_pi is 32 bytes (256 bits) based on PRF_HMAC_SHA2_256\n",
    "* Sk_pr is 32 bytes (256 bits) based on PRF_HMAC_SHA2_256\n",
    "\n",
    "Total is **200 bytes**"
   ]
  },
  {
   "cell_type": "code",
   "execution_count": null,
   "id": "27baff19",
   "metadata": {},
   "outputs": [],
   "source": [
    "prfplusoutput = ikev2_lib.PrfPlus(ikev2_lib.PrfHmacSha256, skeyseed, nonce_i + nonce_r + spi_i + spi_r, 200)\n",
    "#print(f\"prf+ output: {binascii.b2a_hex(prfplusoutput).decode()}\")\n",
    "sk_d = prfplusoutput[:32]\n",
    "sk_ai = prfplusoutput[32:52]\n",
    "sk_ar = prfplusoutput[52:72]\n",
    "sk_ei = prfplusoutput[72:104]\n",
    "sk_er = prfplusoutput[104:136]\n",
    "sk_pi = prfplusoutput[136:168]\n",
    "sk_pr = prfplusoutput[168:200]\n",
    "print(f\"Sk_d: {binascii.b2a_hex(sk_d).decode()}\")\n",
    "print(f\"Sk_ai: {binascii.b2a_hex(sk_ai).decode()}\")\n",
    "print(f\"Sk_ar: {binascii.b2a_hex(sk_ar).decode()}\")\n",
    "print(f\"Sk_ei: {binascii.b2a_hex(sk_ei).decode()}\")\n",
    "print(f\"Sk_er: {binascii.b2a_hex(sk_er).decode()}\")\n",
    "print(f\"Sk_pi: {binascii.b2a_hex(sk_pi).decode()}\")\n",
    "print(f\"Sk_pr: {binascii.b2a_hex(sk_pr).decode()}\")"
   ]
  },
  {
   "cell_type": "markdown",
   "id": "e785f6e8",
   "metadata": {},
   "source": [
    "### Build IKE_SA_INIT response"
   ]
  },
  {
   "cell_type": "code",
   "execution_count": null,
   "id": "6bb6c2af",
   "metadata": {},
   "outputs": [],
   "source": [
    "# Get proposal from Initiator IKE_SA_INIT \n",
    "proposal = packet[IKEv2_payload_Proposal]\n",
    "\n",
    "hdr = IKEv2(init_SPI = spi_i, resp_SPI=spi_r, next_payload = 'SA', exch_type = 'IKE_SA_INIT', flags='Response')\n",
    "sa = IKEv2_payload_SA(next_payload = 'KE', prop=proposal)\n",
    "ke = IKEv2_payload_KE(next_payload = 'Nonce', group = '2048MODPgr', load = dh_a)\n",
    "nonce = IKEv2_payload_Nonce(next_payload = 'None', load = nonce_r)\n",
    "\n",
    "ike_sa_init = hdr/sa/ke/nonce\n",
    "\n",
    "packet = IP(dst = INITIATOR_IP)/UDP(dport = INITIATOR_PORT, sport = RESPONDER_PORT)/ike_sa_init\n",
    "\n",
    "#packet.show()\n"
   ]
  },
  {
   "cell_type": "markdown",
   "id": "b50e7da2",
   "metadata": {},
   "source": [
    "### Send IKE_SA_INIT response and receive IKE_AUTH"
   ]
  },
  {
   "cell_type": "code",
   "execution_count": null,
   "id": "4daa4b0a",
   "metadata": {},
   "outputs": [],
   "source": [
    "ans = sr1(packet)\n",
    "ans.show()"
   ]
  },
  {
   "cell_type": "markdown",
   "id": "e674a956",
   "metadata": {},
   "source": [
    "### Verify checksum and decrypt payload ([RFC7296 3.14](https://datatracker.ietf.org/doc/html/rfc7296#section-3.14))"
   ]
  },
  {
   "cell_type": "code",
   "execution_count": null,
   "id": "650e06cd",
   "metadata": {},
   "outputs": [],
   "source": [
    "from Cryptodome.Cipher import AES\n",
    "cipher_block_size = ikev2_lib.encryption[12][\"block_size\"] # AES_CBC\n",
    "integrity_hash_size = ikev2_lib.integrity[2][\"hash_size\"] # HMAC_SHA1_96\n",
    "\n",
    "auth_data = raw(ans[IKEv2])[:-integrity_hash_size]\n",
    "iv = ans[IKEv2_payload_Encrypted].load[:cipher_block_size]\n",
    "encrypted = ans[IKEv2_payload_Encrypted].load[cipher_block_size:-integrity_hash_size]\n",
    "checksum = ans[IKEv2_payload_Encrypted].load[-integrity_hash_size:]\n",
    "\n",
    "print(f\"IV: {binascii.b2a_hex(iv).decode()}\")\n",
    "print(f\"Checksum in packet: \\t{binascii.b2a_hex(checksum).decode()}\\tOK? {ikev2_lib.verify_integrity(sk_ai, auth_data, checksum)}\\n\")\n",
    "\n",
    "#TODO: stop in case of checksum failure\n",
    "\n",
    "plain = ikev2_lib.decrypt_message(sk_ei, encrypted, iv)\n",
    "payload = IKEv2_payload_IDi(plain) # Cast decrypted payload to IKEv2 payload(s), for now assumes IDi payload\n",
    "payload.show()"
   ]
  },
  {
   "cell_type": "code",
   "execution_count": null,
   "id": "4c0d52be",
   "metadata": {},
   "outputs": [],
   "source": []
  }
 ],
 "metadata": {
  "kernelspec": {
   "display_name": "Python 3 (ipykernel)",
   "language": "python",
   "name": "python3"
  },
  "language_info": {
   "codemirror_mode": {
    "name": "ipython",
    "version": 3
   },
   "file_extension": ".py",
   "mimetype": "text/x-python",
   "name": "python",
   "nbconvert_exporter": "python",
   "pygments_lexer": "ipython3",
   "version": "3.10.5"
  }
 },
 "nbformat": 4,
 "nbformat_minor": 5
}
