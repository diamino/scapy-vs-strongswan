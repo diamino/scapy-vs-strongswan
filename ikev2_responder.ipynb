{
 "cells": [
  {
   "cell_type": "markdown",
   "id": "6a8b04fd",
   "metadata": {},
   "source": [
    "# IKEv2 responder test"
   ]
  },
  {
   "cell_type": "code",
   "execution_count": null,
   "id": "80d88e35",
   "metadata": {
    "collapsed": true
   },
   "outputs": [],
   "source": [
    "!apt update && apt install -y libpcap-dev\n",
    "%pip install --pre scapy[basic]\n",
    "%pip install pycryptodomex"
   ]
  },
  {
   "cell_type": "code",
   "execution_count": null,
   "id": "0e7745dd",
   "metadata": {},
   "outputs": [],
   "source": [
    "import socket\n",
    "hostip = socket.gethostbyname(socket.gethostname())\n",
    "print(\"IP address of host:\", hostip)"
   ]
  },
  {
   "cell_type": "code",
   "execution_count": null,
   "id": "17724ccf-42fb-4d57-a597-1ff266fbce5d",
   "metadata": {},
   "outputs": [],
   "source": [
    "%load_ext autoreload\n",
    "%autoreload\n",
    "\n",
    "from scapy.all import *\n",
    "from scapy.contrib.ikev2 import *\n",
    "from scapy.utils import inet_aton\n",
    "import binascii\n",
    "import os\n",
    "import ikev2_lib\n",
    "import socket"
   ]
  },
  {
   "cell_type": "markdown",
   "id": "35fb8377",
   "metadata": {},
   "source": [
    "IKEv2 specification: https://tools.ietf.org/pdf/rfc7296.pdf"
   ]
  },
  {
   "cell_type": "code",
   "execution_count": null,
   "id": "820319b3",
   "metadata": {},
   "outputs": [],
   "source": [
    "INITIATOR_IP = '172.17.0.3'\n",
    "INITIATOR_PORT = 500\n",
    "RESPONDER_IP = '172.17.0.2'\n",
    "RESPONDER_PORT = 500"
   ]
  },
  {
   "cell_type": "markdown",
   "id": "011b669d",
   "metadata": {},
   "source": [
    "### Create dummy UDP listener to prevent ICMP port unreachable messages"
   ]
  },
  {
   "cell_type": "code",
   "execution_count": null,
   "id": "92245f36-34db-4152-9403-bfdaf91c7019",
   "metadata": {},
   "outputs": [],
   "source": [
    "sock = socket.socket(socket.AF_INET, socket.SOCK_DGRAM)\n",
    "sock.bind((RESPONDER_IP, RESPONDER_PORT))"
   ]
  },
  {
   "cell_type": "markdown",
   "id": "65ed2c5d",
   "metadata": {},
   "source": [
    "### Load secrets from file ###"
   ]
  },
  {
   "cell_type": "code",
   "execution_count": null,
   "id": "2c67d94e",
   "metadata": {},
   "outputs": [],
   "source": [
    "SECRETS_FILE = \"ipsec.psk-server.secrets\"\n",
    "shared_secret = b\"\"\n",
    "with open(SECRETS_FILE, 'rb') as fh:\n",
    "    while True:\n",
    "        line = fh.readline()\n",
    "        \n",
    "        if not line:\n",
    "            break\n",
    "        \n",
    "        line = line.strip()\n",
    "        if len(line) == 0:\n",
    "            continue\n",
    "        if line.startswith(b'#'):\n",
    "            continue\n",
    "        id_, secret = map(bytes.strip, line.split(b':'))\n",
    "        secret_type, secret_value = map(bytes.strip, secret.split(b' '))\n",
    "        if id_ == hostip.encode():\n",
    "            shared_secret = secret_value\n",
    "print(f\"Shared secret read from file is: [{shared_secret}]\")"
   ]
  },
  {
   "cell_type": "markdown",
   "id": "eec6af62",
   "metadata": {},
   "source": [
    "### Initialise local parameters and secrets"
   ]
  },
  {
   "cell_type": "code",
   "execution_count": null,
   "id": "942590fd",
   "metadata": {},
   "outputs": [],
   "source": [
    "INTEGRITY_ALGO_ID = 12 # 2 = AUTH_HMAC_SHA1_96, 12 = AUTH_HMAC_SHA2_256_128\n",
    "ENCRYPTION_ALGO_ID = 12 # 12 = ENCR_AES_CBC\n",
    "PRF_ALGO_ID = 5 # 5 = PRF_HMAC_SHA2_256\n",
    "DH_GROUP_ID = 14 # 14 = 2048-bit MODP group\n",
    "\n",
    "#integrity_algo = ikev2_lib.INTEGRITY[INTEGRITY_ALGO_ID]\n",
    "#encrytion_algo = ikev2_lib.ENCRYPTION[ENCRYPTION_ALGO_ID]\n",
    "#prf_algo = ikev2_lib.PRF[PRF_ALGO_ID]\n",
    "\n",
    "nonce_r = os.urandom(32)\n",
    "spi_r = b'Ysblokje'\n",
    "\n"
   ]
  },
  {
   "cell_type": "markdown",
   "id": "954f0e79",
   "metadata": {},
   "source": [
    "### Wait for IKE_SA_INIT from initiator ###"
   ]
  },
  {
   "cell_type": "code",
   "execution_count": null,
   "id": "f50bb55f",
   "metadata": {},
   "outputs": [],
   "source": [
    "capture = sniff(filter=f\"dst host {RESPONDER_IP} and dst port {RESPONDER_PORT}\", count=1)\n",
    "capture.summary()"
   ]
  },
  {
   "cell_type": "code",
   "execution_count": null,
   "id": "106b632f",
   "metadata": {},
   "outputs": [],
   "source": [
    "ike_sa_init_i_pkt = capture[0][IP]\n",
    "ike_sa_init_i_pkt.show()"
   ]
  },
  {
   "cell_type": "markdown",
   "id": "78da3276",
   "metadata": {},
   "source": [
    "### Strip IP and UDP header ###"
   ]
  },
  {
   "cell_type": "code",
   "execution_count": null,
   "id": "ba2da098",
   "metadata": {},
   "outputs": [],
   "source": [
    "ike_sa_init_i = ike_sa_init_i_pkt[IKEv2]"
   ]
  },
  {
   "cell_type": "markdown",
   "id": "a5d7847d",
   "metadata": {},
   "source": [
    "### Get proposal and transforms from IKE_SA_INIT initiator ### "
   ]
  },
  {
   "cell_type": "code",
   "execution_count": null,
   "id": "5b271168",
   "metadata": {},
   "outputs": [],
   "source": [
    "def transform_ids_from_proposal(proposal: IKEv2_payload_Proposal) -> dict:\n",
    "    transforms = proposal.trans\n",
    "    transform_ids = {}\n",
    "    counter = 0\n",
    "    while True:\n",
    "        layer = transforms.getlayer(counter)\n",
    "        if layer == None:\n",
    "            break\n",
    "        transform_ids[ikev2_lib.TRANSFORM_TYPES[layer.transform_type]] = layer.transform_id\n",
    "        #layer.show()\n",
    "        counter += 1\n",
    "    return transform_ids\n"
   ]
  },
  {
   "cell_type": "code",
   "execution_count": null,
   "id": "6804fe1b",
   "metadata": {},
   "outputs": [],
   "source": [
    "# Get proposal from Initiator IKE_SA_INIT \n",
    "proposal = ike_sa_init_i[IKEv2_payload_Proposal]\n",
    "\n",
    "transform_ids = transform_ids_from_proposal(proposal)\n",
    "\n",
    "integrity_algo = ikev2_lib.INTEGRITY[transform_ids['INTEG']]\n",
    "encrytion_algo = ikev2_lib.ENCRYPTION[transform_ids['ENCR']]\n",
    "prf_algo = ikev2_lib.PRF[transform_ids['PRF']]"
   ]
  },
  {
   "cell_type": "markdown",
   "id": "c2d05f73",
   "metadata": {},
   "source": [
    "### Calculate CSPs ###"
   ]
  },
  {
   "cell_type": "code",
   "execution_count": null,
   "id": "248b74dd",
   "metadata": {},
   "outputs": [],
   "source": [
    "dh = ikev2_lib.DiffieHellman()\n",
    "\n",
    "dh_a = dh.generate_public().to_bytes(length=256, byteorder='big') \n",
    "dh_b = int.from_bytes(ike_sa_init_i[IKEv2_payload_KE].load, byteorder='big')\n",
    "\n",
    "dhs = dh.generate_shared(dh_b).to_bytes(length=256, byteorder='big')\n",
    "print(f\"shared Diffie Hellman secret => {len(dhs)} bytes\")\n",
    "hexdump(dhs)"
   ]
  },
  {
   "cell_type": "code",
   "execution_count": null,
   "id": "aa6ffab3",
   "metadata": {},
   "outputs": [],
   "source": [
    "nonce_i = ike_sa_init_i[IKEv2_payload_Nonce].load\n",
    "spi_i = ike_sa_init_i.init_SPI\n",
    "\n",
    "print(f\"SPIi: {spi_i}\")\n",
    "print(f\"SPIr: {spi_r}\")\n",
    "\n",
    "print(f\"Ni: {binascii.b2a_hex(nonce_i).decode()}\")\n",
    "print(f\"Nr: {binascii.b2a_hex(nonce_r).decode()}\")"
   ]
  },
  {
   "cell_type": "markdown",
   "id": "7f77a20c",
   "metadata": {},
   "source": [
    "### Calculate SKEYSEED and derive keys ([RFC7296 2.14](https://datatracker.ietf.org/doc/html/rfc7296#section-2.14))"
   ]
  },
  {
   "cell_type": "code",
   "execution_count": null,
   "id": "12b1b9f4",
   "metadata": {},
   "outputs": [],
   "source": [
    "prf = ikev2_lib.get_prf(PRF_ALGO_ID)\n",
    "if prf:\n",
    "    skeyseed = prf(nonce_i + nonce_r, dhs)\n",
    "\n",
    "    print(f\"SKEYSEED => {len(skeyseed)} bytes\")\n",
    "    hexdump(skeyseed)"
   ]
  },
  {
   "cell_type": "markdown",
   "id": "4ed18366",
   "metadata": {},
   "source": [
    "Keys needed: SK_d | SK_ai | SK_ar | SK_ei | SK_er | SK_pi | SK_pr"
   ]
  },
  {
   "cell_type": "code",
   "execution_count": null,
   "id": "27baff19",
   "metadata": {},
   "outputs": [],
   "source": [
    "sk_d, sk_ai, sk_ar, sk_ei, sk_er, sk_pi, sk_pr = ikev2_lib.generate_sks(prf, skeyseed, nonce_i + nonce_r + spi_i + spi_r, \n",
    "                                                                        prf_algo[\"key_size\"], integrity_algo[\"key_size\"], encrytion_algo[\"key_size\"])\n",
    "print(f\"Sk_d secret => {len(sk_d)} bytes\")\n",
    "hexdump(sk_d)\n",
    "print(f\"Sk_ai secret => {len(sk_ai)} bytes\")\n",
    "hexdump(sk_ai)\n",
    "print(f\"Sk_ar secret => {len(sk_ar)} bytes\")\n",
    "hexdump(sk_ar)\n",
    "print(f\"Sk_ei secret => {len(sk_ei)} bytes\")\n",
    "hexdump(sk_ei)\n",
    "print(f\"Sk_er secret => {len(sk_er)} bytes\")\n",
    "hexdump(sk_er)\n",
    "print(f\"Sk_pi secret => {len(sk_pi)} bytes\")\n",
    "hexdump(sk_pi)\n",
    "print(f\"Sk_pr secret => {len(sk_pr)} bytes\")\n",
    "hexdump(sk_pr)"
   ]
  },
  {
   "cell_type": "markdown",
   "id": "e785f6e8",
   "metadata": {},
   "source": [
    "### Build IKE_SA_INIT response"
   ]
  },
  {
   "cell_type": "code",
   "execution_count": null,
   "id": "6bb6c2af",
   "metadata": {},
   "outputs": [],
   "source": [
    "\n",
    "hdr = IKEv2(init_SPI = spi_i, resp_SPI=spi_r, next_payload = 'SA', exch_type = 'IKE_SA_INIT', flags='Response')\n",
    "sa = IKEv2_payload_SA(next_payload = 'KE', prop=proposal)\n",
    "ke = IKEv2_payload_KE(next_payload = 'Nonce', group = '2048MODPgr', load = dh_a)\n",
    "nonce = IKEv2_payload_Nonce(next_payload = 'None', load = nonce_r)\n",
    "\n",
    "ike_sa_init_r = hdr/sa/ke/nonce\n",
    "\n",
    "ike_sa_init_r_pkt = IP(dst = INITIATOR_IP)/UDP(dport = INITIATOR_PORT, sport = RESPONDER_PORT)/ike_sa_init_r\n",
    "\n",
    "ike_sa_init_r_pkt.show()\n"
   ]
  },
  {
   "cell_type": "markdown",
   "id": "b50e7da2",
   "metadata": {},
   "source": [
    "### Send IKE_SA_INIT response and receive IKE_AUTH"
   ]
  },
  {
   "cell_type": "code",
   "execution_count": null,
   "id": "4daa4b0a",
   "metadata": {},
   "outputs": [],
   "source": [
    "ans = sr1(ike_sa_init_r_pkt)\n",
    "#ans.show()\n",
    "\n",
    "ike_auth_i = ans[IKEv2]\n",
    "ike_auth_i.show()"
   ]
  },
  {
   "cell_type": "markdown",
   "id": "e674a956",
   "metadata": {},
   "source": [
    "### Verify checksum and decrypt payload ([RFC7296 3.14](https://datatracker.ietf.org/doc/html/rfc7296#section-3.14))"
   ]
  },
  {
   "cell_type": "code",
   "execution_count": null,
   "id": "650e06cd",
   "metadata": {},
   "outputs": [],
   "source": [
    "cipher_block_size = encrytion_algo[\"block_size\"] # AES_CBC\n",
    "integrity_hash_size = integrity_algo[\"hash_size\"] # HMAC_SHA1_96\n",
    "\n",
    "auth_data = raw(ike_auth_i)[:-integrity_hash_size]\n",
    "iv = ike_auth_i[IKEv2_payload_Encrypted].load[:cipher_block_size]\n",
    "encrypted = ike_auth_i[IKEv2_payload_Encrypted].load[cipher_block_size:-integrity_hash_size]\n",
    "checksum = ike_auth_i[IKEv2_payload_Encrypted].load[-integrity_hash_size:]\n",
    "\n",
    "print(f\"IV: {binascii.b2a_hex(iv).decode()}\")\n",
    "print(f\"Checksum in packet: \\t{binascii.b2a_hex(checksum).decode()}\\tOK? {ikev2_lib.verify_integrity(sk_ai, auth_data, checksum, integrity_algo_id=transform_ids['INTEG'])}\\n\")\n",
    "\n",
    "#TODO: stop in case of checksum failure\n",
    "\n",
    "plain = ikev2_lib.decrypt_message(sk_ei, encrypted, iv)\n",
    "ike_auth_i_payload = IKEv2_payload_IDi(plain) # Cast decrypted payload to IKEv2 payload(s), for now assumes IDi payload"
   ]
  },
  {
   "cell_type": "code",
   "execution_count": null,
   "id": "4c0d52be",
   "metadata": {},
   "outputs": [],
   "source": [
    "# idi_prime is the IDi payload minus the fixed payload header (= 4 bytes)\n",
    "idi_payload_len = ike_auth_i_payload[IKEv2_payload_IDi].length\n",
    "idi_prime = raw(ike_auth_i_payload[IKEv2_payload_IDi])[4:idi_payload_len]"
   ]
  },
  {
   "cell_type": "markdown",
   "id": "0def35ef",
   "metadata": {},
   "source": [
    "### Authentication of IKE SA ([RFC7296 2.15](https://datatracker.ietf.org/doc/html/rfc7296#section-2.15)) ###\n",
    "\n",
    "```\n",
    "InitiatorSignedOctets = RealMessage1 | NonceRData | MACedIDForI\n",
    "...\n",
    "MACedIDForI = prf(SK_pi, RestOfInitIDPayload)\n",
    "```"
   ]
  },
  {
   "cell_type": "code",
   "execution_count": null,
   "id": "571b8c44",
   "metadata": {},
   "outputs": [],
   "source": [
    "macedIDforI = prf(sk_pi, idi_prime)\n",
    "octets = raw(ike_sa_init_i) + nonce_r + macedIDforI"
   ]
  },
  {
   "cell_type": "markdown",
   "id": "d975de8d",
   "metadata": {},
   "source": [
    "```\n",
    "For the initiator:\n",
    "      AUTH = prf( prf(Shared Secret, \"Key Pad for IKEv2\"),\n",
    "                       <InitiatorSignedOctets>)\n",
    "```"
   ]
  },
  {
   "cell_type": "code",
   "execution_count": null,
   "id": "7249980b",
   "metadata": {},
   "outputs": [],
   "source": [
    "IKEV2_KEYPAD = b\"Key Pad for IKEv2\"\n",
    "prf_secret_keypad = prf(shared_secret, IKEV2_KEYPAD)\n",
    "auth_value = prf(prf_secret_keypad, octets)\n",
    "print(f\"AUTH = prf(prf(secret, keypad), octets) => {len(auth_value)} bytes\")\n",
    "hexdump(auth_value)\n",
    "print()\n",
    "if auth_value == ike_auth_i_payload[IKEv2_payload_AUTH].load:\n",
    "    print(\"Authentication of initiator successful...\")\n",
    "else:\n",
    "    print(\"Authentication of initiator failed!\")\n",
    "    "
   ]
  },
  {
   "cell_type": "markdown",
   "id": "90953c41",
   "metadata": {},
   "source": [
    "### Build IKE_AUTH response ###\n",
    "\n",
    "```\n",
    "                                <--  HDR, SK {IDr, [CERT,] AUTH,\n",
    "                                         SAr2, TSi, TSr}\n",
    "\n",
    "```"
   ]
  },
  {
   "cell_type": "code",
   "execution_count": null,
   "id": "4ebe5e9c",
   "metadata": {},
   "outputs": [],
   "source": [
    "# Copy proposal and traffic selectors from initiator IKE_AUTH\n",
    "proposal2 = ike_auth_i_payload[IKEv2_payload_Proposal]\n",
    "sa2 = IKEv2_payload_SA(next_payload='TSi', prop=proposal2)\n",
    "\n",
    "initiator_tsi = ike_auth_i_payload[IKEv2_payload_TSi]\n",
    "tsi = IKEv2_payload_TSi(raw(initiator_tsi)[:initiator_tsi.length])\n",
    "\n",
    "initiator_tsr = ike_auth_i_payload[IKEv2_payload_TSr]\n",
    "tsr = IKEv2_payload_TSr(raw(initiator_tsr)[:initiator_tsr.length])\n",
    "# Fixup copied traffic selectors\n",
    "tsi.next_payload = 'TSr' \n",
    "tsr.next_payload = 'None'"
   ]
  },
  {
   "cell_type": "markdown",
   "id": "4d6fc091",
   "metadata": {},
   "source": [
    "#### IDr payload ###"
   ]
  },
  {
   "cell_type": "code",
   "execution_count": null,
   "id": "19f5e088",
   "metadata": {},
   "outputs": [],
   "source": [
    "idr_load = inet_aton(RESPONDER_IP)\n",
    "idr = IKEv2_payload_IDr(next_payload='AUTH', IDtype=\"IPv4_addr\", load=idr_load)\n",
    "idr_prime = raw(idr)[4:]"
   ]
  },
  {
   "cell_type": "markdown",
   "id": "d4f66d53",
   "metadata": {},
   "source": [
    "#### AUTH payload ([RFC7296 2.15](https://datatracker.ietf.org/doc/html/rfc7296#section-2.15)) ####\n",
    "\n",
    "```\n",
    "ResponderSignedOctets = RealMessage2 | NonceIData | MACedIDForR\n",
    "...\n",
    "MACedIDForR = prf(SK_pr, RestOfRespIDPayload)\n",
    "```"
   ]
  },
  {
   "cell_type": "code",
   "execution_count": null,
   "id": "25e2ee69",
   "metadata": {},
   "outputs": [],
   "source": [
    "macedIDforR = prf(sk_pr, idr_prime)\n",
    "octets = raw(ike_sa_init_r) + nonce_i + macedIDforR\n",
    "auth_load = prf(prf_secret_keypad, octets)\n",
    "print(f\"AUTH = prf(prf(secret, keypad), octets) => {len(auth_load)} bytes\")\n",
    "hexdump(auth_load)\n",
    "auth = IKEv2_payload_AUTH(next_payload = 'SA', auth_type = \"Shared Key Message Integrity Code\", load=auth_load)"
   ]
  },
  {
   "cell_type": "markdown",
   "id": "834d9f44",
   "metadata": {},
   "source": [
    "#### Assemble and prepare encrypted payload ####"
   ]
  },
  {
   "cell_type": "code",
   "execution_count": null,
   "id": "d63827dd",
   "metadata": {},
   "outputs": [],
   "source": [
    "# Copy message ID from initiator IKE_AUTH\n",
    "msg_id = ike_auth_i[IKEv2].id\n",
    "\n",
    "# Assemble payload to be encrypted\n",
    "sk_load = idr/auth/sa2/tsi/tsr\n",
    "# Generate IV\n",
    "iv = ikev2_lib.generate_iv()\n",
    "# Encrypt payload\n",
    "sk_load_encr = ikev2_lib.encrypt_message(sk_er, raw(sk_load), iv)\n",
    "# Construct Encrypted payload\n",
    "sk_load_complete = iv + sk_load_encr + bytes(integrity_hash_size)\n",
    "# Assemble packet\n",
    "hdr = IKEv2(init_SPI = spi_i, resp_SPI=spi_r, id=msg_id, next_payload = 'Encrypted', exch_type = 'IKE_AUTH', flags='Response')\n",
    "sk = IKEv2_payload_Encrypted(next_payload = 'IDr', load=sk_load_complete)\n",
    "\n",
    "ike_auth_r = hdr/sk\n",
    "# Authenticate packet and append 'checksum'\n",
    "auth_data = raw(ike_auth_r)[:-integrity_hash_size]\n",
    "checksum = ikev2_lib.calculate_integrity(sk_ar, auth_data, integrity_algo_id=transform_ids['INTEG'])\n",
    "sk_load_complete = iv + sk_load_encr + checksum\n",
    "ike_auth_r[IKEv2_payload_Encrypted].load = sk_load_complete\n",
    "\n",
    "ike_auth_r_pkt = IP(dst = INITIATOR_IP)/UDP(dport = INITIATOR_PORT, sport = RESPONDER_PORT)/ike_auth_r"
   ]
  },
  {
   "cell_type": "code",
   "execution_count": null,
   "id": "90043bb7",
   "metadata": {},
   "outputs": [],
   "source": [
    "ike_auth_r_pkt.show()"
   ]
  },
  {
   "cell_type": "code",
   "execution_count": null,
   "id": "760dd026",
   "metadata": {},
   "outputs": [],
   "source": [
    "ans = sr1(ike_auth_r_pkt)\n",
    "#ans.show()\n",
    "\n",
    "ike_xx_i = ans[IKEv2]\n",
    "ike_xx_i.show()"
   ]
  },
  {
   "cell_type": "code",
   "execution_count": null,
   "id": "86a26e11",
   "metadata": {},
   "outputs": [],
   "source": []
  }
 ],
 "metadata": {
  "kernelspec": {
   "display_name": "Python 3 (ipykernel)",
   "language": "python",
   "name": "python3"
  },
  "language_info": {
   "codemirror_mode": {
    "name": "ipython",
    "version": 3
   },
   "file_extension": ".py",
   "mimetype": "text/x-python",
   "name": "python",
   "nbconvert_exporter": "python",
   "pygments_lexer": "ipython3",
   "version": "3.10.5"
  },
  "vscode": {
   "interpreter": {
    "hash": "7c8c9b589ebf4c2bbc29f81573762c8d72045783cadc2b1e4819b506c6f87095"
   }
  }
 },
 "nbformat": 4,
 "nbformat_minor": 5
}
